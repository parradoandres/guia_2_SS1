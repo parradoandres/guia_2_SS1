{
  "nbformat": 4,
  "nbformat_minor": 0,
  "metadata": {
    "colab": {
      "provenance": [],
      "include_colab_link": true
    },
    "kernelspec": {
      "name": "python3",
      "display_name": "Python 3"
    },
    "language_info": {
      "name": "python"
    }
  },
  "cells": [
    {
      "cell_type": "markdown",
      "metadata": {
        "id": "view-in-github",
        "colab_type": "text"
      },
      "source": [
        "<a href=\"https://colab.research.google.com/github/parradoandres/guia_2_SS1/blob/main/Guia_2_SS1.ipynb\" target=\"_parent\"><img src=\"https://colab.research.google.com/assets/colab-badge.svg\" alt=\"Open In Colab\"/></a>"
      ]
    },
    {
      "cell_type": "markdown",
      "source": [
        "# **Guía 2**\n",
        "\n",
        "Objetivo: aplicar los conceptos de Pandas en la manipulación y análisis de datos estructurados. Se trabajará con Series y DataFrames, aplicando técnicas de acceso, selección, filtrado y agregación de datos.\n",
        "\n",
        "### **Caso de Negocio: Análisis de Deserción de Clientes en una Empresa de Telecomunicaciones**\n",
        "\n",
        "**Contexto**\n",
        "\n",
        "En la industria de las telecomunicaciones, la retención de clientes es un factor crítico para la sostenibilidad del negocio. La competencia es feroz y adquirir nuevos clientes suele ser más costoso que mantener a los actuales. En este análisis, exploraremos un conjunto de datos que contiene información detallada sobre clientes que han abandonado el servicio (churn) y aquellos que permanecen activos.\n",
        "\n",
        "Nuestro objetivo es identificar los factores clave que influyen en la deserción, comprender patrones de comportamiento y generar estrategias efectivas para reducir la tasa de abandono.\n",
        "\n",
        "La empresa ha experimentado un aumento en la tasa de deserción de clientes, lo que ha provocado:\n",
        "- Pérdida de ingresos recurrentes.\n",
        "- Incremento en los costos de adquisición de nuevos clientes.\n",
        "- Menor estabilidad en la base de clientes a largo plazo.\n",
        "\n",
        "Para abordar esta problemática, es crucial identificar las razones detrás de la deserción y desarrollar estrategias para mejorar la retención de clientes.\n",
        "\n"
      ],
      "metadata": {
        "id": "sVxeQki8vRXz"
      }
    },
    {
      "cell_type": "markdown",
      "source": [
        "**Entrega del Trabajo**\n",
        "\n",
        "Los estudiantes deben trabajar en grupos de entre 2 y 4 personas. Cada grupo deberá subir su trabajo a un repositorio de GitHub, asegurándose de que el código y los archivos necesarios estén bien organizados y documentados. Posteriormente, deberán enviar el enlace del repositorio en la plataforma Canvas para su evaluación.\n",
        "\n",
        "Instrucciones para la entrega:\n",
        "\n",
        "Crear un repositorio en GitHub con un nombre descriptivo para el proyecto.\n",
        "\n",
        "Subir el código en Jupyter Notebook (.ipynb) o en formato Python (.py).\n",
        "\n",
        "Incluir un archivo README.md con una breve descripción del trabajo y las instrucciones de ejecución.\n",
        "\n",
        "Compartir el enlace del repositorio en Canvas dentro del plazo establecido.\n",
        "\n"
      ],
      "metadata": {
        "id": "TBsud25XSR0w"
      }
    },
    {
      "cell_type": "markdown",
      "source": [
        "**Descripción de las variables del dataset telecom_churn**\n",
        "\n",
        "El dataset telecom_churn contiene información detallada sobre clientes de una empresa de telecomunicaciones, incluyendo datos generales, planes contratados, uso del servicio telefónico y llamadas al servicio al cliente. Su propósito principal es analizar patrones de deserción de clientes, identificados a través de la variable churn, que indica si un cliente ha abandonado la empresa (1) o sigue siendo cliente (0).\n",
        "\n",
        "Dentro del dataset, encontramos información general como el estado (state) donde reside el cliente, el código de área (area code), y el número de teléfono (phone number), aunque esta última variable no aporta información útil para el análisis, ya que es un identificador único.\n",
        "\n",
        "Además, el dataset registra el tiempo que un cliente ha estado en la empresa a través de la variable account length, lo que puede ayudar a analizar si la duración del contrato influye en la deserción. También se incluyen detalles sobre los planes contratados, como si el cliente tiene un plan internacional (international plan), que le permite realizar llamadas internacionales, o un buzón de voz (voice mail plan), que le permite recibir mensajes de voz.\n",
        "\n",
        "En cuanto al uso del servicio, se registran datos detallados sobre el tiempo en llamadas y los costos asociados. Se divide en tres períodos del día: diurno (total day minutes, total day calls, total day charge), vespertino (total eve minutes, total eve calls, total eve charge) y nocturno (total night minutes, total night calls, total night charge), lo que permite evaluar si hay patrones de consumo que influyen en la deserción. También se incluye información sobre el uso del servicio internacional, con variables como total intl minutes (minutos en llamadas internacionales), total intl calls (cantidad de llamadas internacionales) y total intl charge (costos por llamadas internacionales).\n",
        "\n",
        "Otro aspecto clave del dataset es el número de llamadas al servicio al cliente (customer service calls), ya que una mayor cantidad de llamadas puede indicar insatisfacción y estar relacionada con la decisión del cliente de abandonar la empresa.\n",
        "\n",
        "Finalmente, la variable más importante del análisis es churn, que indica si un cliente ha desertado de la empresa. A partir de esta variable, podemos analizar qué factores influyen en la deserción y encontrar patrones en los clientes que tienen mayor probabilidad de abandonar el servicio.\n"
      ],
      "metadata": {
        "id": "R1eyqBGSScta"
      }
    },
    {
      "cell_type": "markdown",
      "source": [
        "**Exploración y Limpieza de Datos**\n",
        "\n",
        "Cargar y explorar el dataset\n",
        "\n",
        "Importa Pandas y carga el dataset telecom_churn.csv en un DataFrame.\n",
        "\n",
        "Muestra las primeras 5 filas del DataFrame.\n",
        "\n",
        "Verifica cuántas filas y columnas tiene el dataset.\n",
        "\n",
        "Muestra información general del dataset, incluyendo los tipos de datos.\n",
        "\n",
        "Identifica si hay valores nulos en alguna columna."
      ],
      "metadata": {
        "id": "-gqRGJ8yFs5Y"
      }
    },
    {
      "cell_type": "code",
      "execution_count": null,
      "metadata": {
        "id": "wuoyvrE0vQ09",
        "colab": {
          "base_uri": "https://localhost:8080/"
        },
        "outputId": "686f8094-cbdd-4342-b7b5-984a3fee1ca9"
      },
      "outputs": [
        {
          "output_type": "execute_result",
          "data": {
            "text/plain": [
              "True"
            ]
          },
          "metadata": {},
          "execution_count": 58
        }
      ],
      "source": [
        "# Solución propuesta\n",
        "# Creación del entorno requerido para la ejecución de los distintos programas, partiendo de la importación de librerías requeridas y los directorios\n",
        "import pandas as pd\n",
        "import os\n",
        "os.getcwd()  # Devuelve el directorio de trabajo actual\n",
        "os.makedirs('Datos', exist_ok=True)  # Crea un nuevo directorio\n",
        "os.path.exists('/content/Datos/telecom_churn.csv')  # Devuelve True si el archivo o directorio existe"
      ]
    },
    {
      "cell_type": "code",
      "source": [
        "#Creación del Dataframe a partir del archivo CSV\n",
        "# IMPORTANTE Subir el archivo telecom_churn.csv al directorio /content/Dato\n",
        "dftelecom = pd.read_csv('/content/Datos/telecom_churn.csv')  # Lee un archivo CSV en un DataFrame"
      ],
      "metadata": {
        "id": "lF_QqEl1FOi_"
      },
      "execution_count": null,
      "outputs": []
    },
    {
      "cell_type": "code",
      "source": [
        "dftelecom.head(5)  # Muestra las primeras (5) filas del DataFrame"
      ],
      "metadata": {
        "id": "Xx3Kgon_RcTF",
        "colab": {
          "base_uri": "https://localhost:8080/",
          "height": 377
        },
        "outputId": "7c45f450-ee20-4baf-e03f-796dc412471e"
      },
      "execution_count": null,
      "outputs": [
        {
          "output_type": "execute_result",
          "data": {
            "text/plain": [
              "  state  account length  area code phone number international plan  \\\n",
              "0    KS             128        415     382-4657                 no   \n",
              "1    OH             107        415     371-7191                 no   \n",
              "2    NJ             137        415     358-1921                 no   \n",
              "3    OH              84        408     375-9999                yes   \n",
              "4    OK              75        415     330-6626                yes   \n",
              "\n",
              "  voice mail plan  number vmail messages  total day minutes  total day calls  \\\n",
              "0             yes                     25              265.1              110   \n",
              "1             yes                     26              161.6              123   \n",
              "2              no                      0              243.4              114   \n",
              "3              no                      0              299.4               71   \n",
              "4              no                      0              166.7              113   \n",
              "\n",
              "   total day charge  ...  total eve calls  total eve charge  \\\n",
              "0             45.07  ...               99             16.78   \n",
              "1             27.47  ...              103             16.62   \n",
              "2             41.38  ...              110             10.30   \n",
              "3             50.90  ...               88              5.26   \n",
              "4             28.34  ...              122             12.61   \n",
              "\n",
              "   total night minutes  total night calls  total night charge  \\\n",
              "0                244.7                 91               11.01   \n",
              "1                254.4                103               11.45   \n",
              "2                162.6                104                7.32   \n",
              "3                196.9                 89                8.86   \n",
              "4                186.9                121                8.41   \n",
              "\n",
              "   total intl minutes  total intl calls  total intl charge  \\\n",
              "0                10.0                 3               2.70   \n",
              "1                13.7                 3               3.70   \n",
              "2                12.2                 5               3.29   \n",
              "3                 6.6                 7               1.78   \n",
              "4                10.1                 3               2.73   \n",
              "\n",
              "   customer service calls  churn  \n",
              "0                       1  False  \n",
              "1                       1  False  \n",
              "2                       0  False  \n",
              "3                       2  False  \n",
              "4                       3  False  \n",
              "\n",
              "[5 rows x 21 columns]"
            ],
            "text/html": [
              "\n",
              "  <div id=\"df-dbe514d3-de85-4b7c-9e50-7be4cfcbbcef\" class=\"colab-df-container\">\n",
              "    <div>\n",
              "<style scoped>\n",
              "    .dataframe tbody tr th:only-of-type {\n",
              "        vertical-align: middle;\n",
              "    }\n",
              "\n",
              "    .dataframe tbody tr th {\n",
              "        vertical-align: top;\n",
              "    }\n",
              "\n",
              "    .dataframe thead th {\n",
              "        text-align: right;\n",
              "    }\n",
              "</style>\n",
              "<table border=\"1\" class=\"dataframe\">\n",
              "  <thead>\n",
              "    <tr style=\"text-align: right;\">\n",
              "      <th></th>\n",
              "      <th>state</th>\n",
              "      <th>account length</th>\n",
              "      <th>area code</th>\n",
              "      <th>phone number</th>\n",
              "      <th>international plan</th>\n",
              "      <th>voice mail plan</th>\n",
              "      <th>number vmail messages</th>\n",
              "      <th>total day minutes</th>\n",
              "      <th>total day calls</th>\n",
              "      <th>total day charge</th>\n",
              "      <th>...</th>\n",
              "      <th>total eve calls</th>\n",
              "      <th>total eve charge</th>\n",
              "      <th>total night minutes</th>\n",
              "      <th>total night calls</th>\n",
              "      <th>total night charge</th>\n",
              "      <th>total intl minutes</th>\n",
              "      <th>total intl calls</th>\n",
              "      <th>total intl charge</th>\n",
              "      <th>customer service calls</th>\n",
              "      <th>churn</th>\n",
              "    </tr>\n",
              "  </thead>\n",
              "  <tbody>\n",
              "    <tr>\n",
              "      <th>0</th>\n",
              "      <td>KS</td>\n",
              "      <td>128</td>\n",
              "      <td>415</td>\n",
              "      <td>382-4657</td>\n",
              "      <td>no</td>\n",
              "      <td>yes</td>\n",
              "      <td>25</td>\n",
              "      <td>265.1</td>\n",
              "      <td>110</td>\n",
              "      <td>45.07</td>\n",
              "      <td>...</td>\n",
              "      <td>99</td>\n",
              "      <td>16.78</td>\n",
              "      <td>244.7</td>\n",
              "      <td>91</td>\n",
              "      <td>11.01</td>\n",
              "      <td>10.0</td>\n",
              "      <td>3</td>\n",
              "      <td>2.70</td>\n",
              "      <td>1</td>\n",
              "      <td>False</td>\n",
              "    </tr>\n",
              "    <tr>\n",
              "      <th>1</th>\n",
              "      <td>OH</td>\n",
              "      <td>107</td>\n",
              "      <td>415</td>\n",
              "      <td>371-7191</td>\n",
              "      <td>no</td>\n",
              "      <td>yes</td>\n",
              "      <td>26</td>\n",
              "      <td>161.6</td>\n",
              "      <td>123</td>\n",
              "      <td>27.47</td>\n",
              "      <td>...</td>\n",
              "      <td>103</td>\n",
              "      <td>16.62</td>\n",
              "      <td>254.4</td>\n",
              "      <td>103</td>\n",
              "      <td>11.45</td>\n",
              "      <td>13.7</td>\n",
              "      <td>3</td>\n",
              "      <td>3.70</td>\n",
              "      <td>1</td>\n",
              "      <td>False</td>\n",
              "    </tr>\n",
              "    <tr>\n",
              "      <th>2</th>\n",
              "      <td>NJ</td>\n",
              "      <td>137</td>\n",
              "      <td>415</td>\n",
              "      <td>358-1921</td>\n",
              "      <td>no</td>\n",
              "      <td>no</td>\n",
              "      <td>0</td>\n",
              "      <td>243.4</td>\n",
              "      <td>114</td>\n",
              "      <td>41.38</td>\n",
              "      <td>...</td>\n",
              "      <td>110</td>\n",
              "      <td>10.30</td>\n",
              "      <td>162.6</td>\n",
              "      <td>104</td>\n",
              "      <td>7.32</td>\n",
              "      <td>12.2</td>\n",
              "      <td>5</td>\n",
              "      <td>3.29</td>\n",
              "      <td>0</td>\n",
              "      <td>False</td>\n",
              "    </tr>\n",
              "    <tr>\n",
              "      <th>3</th>\n",
              "      <td>OH</td>\n",
              "      <td>84</td>\n",
              "      <td>408</td>\n",
              "      <td>375-9999</td>\n",
              "      <td>yes</td>\n",
              "      <td>no</td>\n",
              "      <td>0</td>\n",
              "      <td>299.4</td>\n",
              "      <td>71</td>\n",
              "      <td>50.90</td>\n",
              "      <td>...</td>\n",
              "      <td>88</td>\n",
              "      <td>5.26</td>\n",
              "      <td>196.9</td>\n",
              "      <td>89</td>\n",
              "      <td>8.86</td>\n",
              "      <td>6.6</td>\n",
              "      <td>7</td>\n",
              "      <td>1.78</td>\n",
              "      <td>2</td>\n",
              "      <td>False</td>\n",
              "    </tr>\n",
              "    <tr>\n",
              "      <th>4</th>\n",
              "      <td>OK</td>\n",
              "      <td>75</td>\n",
              "      <td>415</td>\n",
              "      <td>330-6626</td>\n",
              "      <td>yes</td>\n",
              "      <td>no</td>\n",
              "      <td>0</td>\n",
              "      <td>166.7</td>\n",
              "      <td>113</td>\n",
              "      <td>28.34</td>\n",
              "      <td>...</td>\n",
              "      <td>122</td>\n",
              "      <td>12.61</td>\n",
              "      <td>186.9</td>\n",
              "      <td>121</td>\n",
              "      <td>8.41</td>\n",
              "      <td>10.1</td>\n",
              "      <td>3</td>\n",
              "      <td>2.73</td>\n",
              "      <td>3</td>\n",
              "      <td>False</td>\n",
              "    </tr>\n",
              "  </tbody>\n",
              "</table>\n",
              "<p>5 rows × 21 columns</p>\n",
              "</div>\n",
              "    <div class=\"colab-df-buttons\">\n",
              "\n",
              "  <div class=\"colab-df-container\">\n",
              "    <button class=\"colab-df-convert\" onclick=\"convertToInteractive('df-dbe514d3-de85-4b7c-9e50-7be4cfcbbcef')\"\n",
              "            title=\"Convert this dataframe to an interactive table.\"\n",
              "            style=\"display:none;\">\n",
              "\n",
              "  <svg xmlns=\"http://www.w3.org/2000/svg\" height=\"24px\" viewBox=\"0 -960 960 960\">\n",
              "    <path d=\"M120-120v-720h720v720H120Zm60-500h600v-160H180v160Zm220 220h160v-160H400v160Zm0 220h160v-160H400v160ZM180-400h160v-160H180v160Zm440 0h160v-160H620v160ZM180-180h160v-160H180v160Zm440 0h160v-160H620v160Z\"/>\n",
              "  </svg>\n",
              "    </button>\n",
              "\n",
              "  <style>\n",
              "    .colab-df-container {\n",
              "      display:flex;\n",
              "      gap: 12px;\n",
              "    }\n",
              "\n",
              "    .colab-df-convert {\n",
              "      background-color: #E8F0FE;\n",
              "      border: none;\n",
              "      border-radius: 50%;\n",
              "      cursor: pointer;\n",
              "      display: none;\n",
              "      fill: #1967D2;\n",
              "      height: 32px;\n",
              "      padding: 0 0 0 0;\n",
              "      width: 32px;\n",
              "    }\n",
              "\n",
              "    .colab-df-convert:hover {\n",
              "      background-color: #E2EBFA;\n",
              "      box-shadow: 0px 1px 2px rgba(60, 64, 67, 0.3), 0px 1px 3px 1px rgba(60, 64, 67, 0.15);\n",
              "      fill: #174EA6;\n",
              "    }\n",
              "\n",
              "    .colab-df-buttons div {\n",
              "      margin-bottom: 4px;\n",
              "    }\n",
              "\n",
              "    [theme=dark] .colab-df-convert {\n",
              "      background-color: #3B4455;\n",
              "      fill: #D2E3FC;\n",
              "    }\n",
              "\n",
              "    [theme=dark] .colab-df-convert:hover {\n",
              "      background-color: #434B5C;\n",
              "      box-shadow: 0px 1px 3px 1px rgba(0, 0, 0, 0.15);\n",
              "      filter: drop-shadow(0px 1px 2px rgba(0, 0, 0, 0.3));\n",
              "      fill: #FFFFFF;\n",
              "    }\n",
              "  </style>\n",
              "\n",
              "    <script>\n",
              "      const buttonEl =\n",
              "        document.querySelector('#df-dbe514d3-de85-4b7c-9e50-7be4cfcbbcef button.colab-df-convert');\n",
              "      buttonEl.style.display =\n",
              "        google.colab.kernel.accessAllowed ? 'block' : 'none';\n",
              "\n",
              "      async function convertToInteractive(key) {\n",
              "        const element = document.querySelector('#df-dbe514d3-de85-4b7c-9e50-7be4cfcbbcef');\n",
              "        const dataTable =\n",
              "          await google.colab.kernel.invokeFunction('convertToInteractive',\n",
              "                                                    [key], {});\n",
              "        if (!dataTable) return;\n",
              "\n",
              "        const docLinkHtml = 'Like what you see? Visit the ' +\n",
              "          '<a target=\"_blank\" href=https://colab.research.google.com/notebooks/data_table.ipynb>data table notebook</a>'\n",
              "          + ' to learn more about interactive tables.';\n",
              "        element.innerHTML = '';\n",
              "        dataTable['output_type'] = 'display_data';\n",
              "        await google.colab.output.renderOutput(dataTable, element);\n",
              "        const docLink = document.createElement('div');\n",
              "        docLink.innerHTML = docLinkHtml;\n",
              "        element.appendChild(docLink);\n",
              "      }\n",
              "    </script>\n",
              "  </div>\n",
              "\n",
              "\n",
              "<div id=\"df-816b6b1f-bdfb-40d7-9a79-d38b7066ab2d\">\n",
              "  <button class=\"colab-df-quickchart\" onclick=\"quickchart('df-816b6b1f-bdfb-40d7-9a79-d38b7066ab2d')\"\n",
              "            title=\"Suggest charts\"\n",
              "            style=\"display:none;\">\n",
              "\n",
              "<svg xmlns=\"http://www.w3.org/2000/svg\" height=\"24px\"viewBox=\"0 0 24 24\"\n",
              "     width=\"24px\">\n",
              "    <g>\n",
              "        <path d=\"M19 3H5c-1.1 0-2 .9-2 2v14c0 1.1.9 2 2 2h14c1.1 0 2-.9 2-2V5c0-1.1-.9-2-2-2zM9 17H7v-7h2v7zm4 0h-2V7h2v10zm4 0h-2v-4h2v4z\"/>\n",
              "    </g>\n",
              "</svg>\n",
              "  </button>\n",
              "\n",
              "<style>\n",
              "  .colab-df-quickchart {\n",
              "      --bg-color: #E8F0FE;\n",
              "      --fill-color: #1967D2;\n",
              "      --hover-bg-color: #E2EBFA;\n",
              "      --hover-fill-color: #174EA6;\n",
              "      --disabled-fill-color: #AAA;\n",
              "      --disabled-bg-color: #DDD;\n",
              "  }\n",
              "\n",
              "  [theme=dark] .colab-df-quickchart {\n",
              "      --bg-color: #3B4455;\n",
              "      --fill-color: #D2E3FC;\n",
              "      --hover-bg-color: #434B5C;\n",
              "      --hover-fill-color: #FFFFFF;\n",
              "      --disabled-bg-color: #3B4455;\n",
              "      --disabled-fill-color: #666;\n",
              "  }\n",
              "\n",
              "  .colab-df-quickchart {\n",
              "    background-color: var(--bg-color);\n",
              "    border: none;\n",
              "    border-radius: 50%;\n",
              "    cursor: pointer;\n",
              "    display: none;\n",
              "    fill: var(--fill-color);\n",
              "    height: 32px;\n",
              "    padding: 0;\n",
              "    width: 32px;\n",
              "  }\n",
              "\n",
              "  .colab-df-quickchart:hover {\n",
              "    background-color: var(--hover-bg-color);\n",
              "    box-shadow: 0 1px 2px rgba(60, 64, 67, 0.3), 0 1px 3px 1px rgba(60, 64, 67, 0.15);\n",
              "    fill: var(--button-hover-fill-color);\n",
              "  }\n",
              "\n",
              "  .colab-df-quickchart-complete:disabled,\n",
              "  .colab-df-quickchart-complete:disabled:hover {\n",
              "    background-color: var(--disabled-bg-color);\n",
              "    fill: var(--disabled-fill-color);\n",
              "    box-shadow: none;\n",
              "  }\n",
              "\n",
              "  .colab-df-spinner {\n",
              "    border: 2px solid var(--fill-color);\n",
              "    border-color: transparent;\n",
              "    border-bottom-color: var(--fill-color);\n",
              "    animation:\n",
              "      spin 1s steps(1) infinite;\n",
              "  }\n",
              "\n",
              "  @keyframes spin {\n",
              "    0% {\n",
              "      border-color: transparent;\n",
              "      border-bottom-color: var(--fill-color);\n",
              "      border-left-color: var(--fill-color);\n",
              "    }\n",
              "    20% {\n",
              "      border-color: transparent;\n",
              "      border-left-color: var(--fill-color);\n",
              "      border-top-color: var(--fill-color);\n",
              "    }\n",
              "    30% {\n",
              "      border-color: transparent;\n",
              "      border-left-color: var(--fill-color);\n",
              "      border-top-color: var(--fill-color);\n",
              "      border-right-color: var(--fill-color);\n",
              "    }\n",
              "    40% {\n",
              "      border-color: transparent;\n",
              "      border-right-color: var(--fill-color);\n",
              "      border-top-color: var(--fill-color);\n",
              "    }\n",
              "    60% {\n",
              "      border-color: transparent;\n",
              "      border-right-color: var(--fill-color);\n",
              "    }\n",
              "    80% {\n",
              "      border-color: transparent;\n",
              "      border-right-color: var(--fill-color);\n",
              "      border-bottom-color: var(--fill-color);\n",
              "    }\n",
              "    90% {\n",
              "      border-color: transparent;\n",
              "      border-bottom-color: var(--fill-color);\n",
              "    }\n",
              "  }\n",
              "</style>\n",
              "\n",
              "  <script>\n",
              "    async function quickchart(key) {\n",
              "      const quickchartButtonEl =\n",
              "        document.querySelector('#' + key + ' button');\n",
              "      quickchartButtonEl.disabled = true;  // To prevent multiple clicks.\n",
              "      quickchartButtonEl.classList.add('colab-df-spinner');\n",
              "      try {\n",
              "        const charts = await google.colab.kernel.invokeFunction(\n",
              "            'suggestCharts', [key], {});\n",
              "      } catch (error) {\n",
              "        console.error('Error during call to suggestCharts:', error);\n",
              "      }\n",
              "      quickchartButtonEl.classList.remove('colab-df-spinner');\n",
              "      quickchartButtonEl.classList.add('colab-df-quickchart-complete');\n",
              "    }\n",
              "    (() => {\n",
              "      let quickchartButtonEl =\n",
              "        document.querySelector('#df-816b6b1f-bdfb-40d7-9a79-d38b7066ab2d button');\n",
              "      quickchartButtonEl.style.display =\n",
              "        google.colab.kernel.accessAllowed ? 'block' : 'none';\n",
              "    })();\n",
              "  </script>\n",
              "</div>\n",
              "\n",
              "    </div>\n",
              "  </div>\n"
            ],
            "application/vnd.google.colaboratory.intrinsic+json": {
              "type": "dataframe",
              "variable_name": "dftelecom"
            }
          },
          "metadata": {},
          "execution_count": 60
        }
      ]
    },
    {
      "cell_type": "code",
      "source": [
        "dftelecom.shape  # Retorna el número de filas y columnas del DataFrame"
      ],
      "metadata": {
        "id": "AtQJ3OUmRl5p"
      },
      "execution_count": null,
      "outputs": []
    },
    {
      "cell_type": "code",
      "source": [
        "# Muestra información general del DataFrame\n",
        "dftelecom.info()"
      ],
      "metadata": {
        "id": "xfJp7eWiRy_t",
        "colab": {
          "base_uri": "https://localhost:8080/"
        },
        "outputId": "8c3db614-5382-48c8-e86f-64917282b4a6"
      },
      "execution_count": null,
      "outputs": [
        {
          "output_type": "stream",
          "name": "stdout",
          "text": [
            "<class 'pandas.core.frame.DataFrame'>\n",
            "RangeIndex: 3333 entries, 0 to 3332\n",
            "Data columns (total 21 columns):\n",
            " #   Column                  Non-Null Count  Dtype  \n",
            "---  ------                  --------------  -----  \n",
            " 0   state                   3333 non-null   object \n",
            " 1   account length          3333 non-null   int64  \n",
            " 2   area code               3333 non-null   int64  \n",
            " 3   phone number            3333 non-null   object \n",
            " 4   international plan      3333 non-null   object \n",
            " 5   voice mail plan         3333 non-null   object \n",
            " 6   number vmail messages   3333 non-null   int64  \n",
            " 7   total day minutes       3333 non-null   float64\n",
            " 8   total day calls         3333 non-null   int64  \n",
            " 9   total day charge        3333 non-null   float64\n",
            " 10  total eve minutes       3333 non-null   float64\n",
            " 11  total eve calls         3333 non-null   int64  \n",
            " 12  total eve charge        3333 non-null   float64\n",
            " 13  total night minutes     3333 non-null   float64\n",
            " 14  total night calls       3333 non-null   int64  \n",
            " 15  total night charge      3333 non-null   float64\n",
            " 16  total intl minutes      3333 non-null   float64\n",
            " 17  total intl calls        3333 non-null   int64  \n",
            " 18  total intl charge       3333 non-null   float64\n",
            " 19  customer service calls  3333 non-null   int64  \n",
            " 20  churn                   3333 non-null   bool   \n",
            "dtypes: bool(1), float64(8), int64(8), object(4)\n",
            "memory usage: 524.2+ KB\n"
          ]
        }
      ]
    },
    {
      "cell_type": "code",
      "source": [
        "#muestra los valores encontrados en nulo en las diderentes columnas\n",
        "null_counts = dftelecom.isnull().sum()  # Cuenta los valores nulos en cada columna\n",
        "print(null_counts)"
      ],
      "metadata": {
        "id": "v3bz5m4BR-zt",
        "colab": {
          "base_uri": "https://localhost:8080/"
        },
        "outputId": "3a95d46d-906a-4e4b-edbe-f82347ae8128"
      },
      "execution_count": null,
      "outputs": [
        {
          "output_type": "stream",
          "name": "stdout",
          "text": [
            "state                     0\n",
            "account length            0\n",
            "area code                 0\n",
            "phone number              0\n",
            "international plan        0\n",
            "voice mail plan           0\n",
            "number vmail messages     0\n",
            "total day minutes         0\n",
            "total day calls           0\n",
            "total day charge          0\n",
            "total eve minutes         0\n",
            "total eve calls           0\n",
            "total eve charge          0\n",
            "total night minutes       0\n",
            "total night calls         0\n",
            "total night charge        0\n",
            "total intl minutes        0\n",
            "total intl calls          0\n",
            "total intl charge         0\n",
            "customer service calls    0\n",
            "churn                     0\n",
            "dtype: int64\n"
          ]
        }
      ]
    },
    {
      "cell_type": "markdown",
      "source": [
        "**Análisis de Churn y Factores Relacionados**\n",
        "\n",
        "Calcula el porcentaje de clientes que han desertado (churn = 1).\n",
        "\n",
        "Identifica si los clientes con plan internacional (international plan) tienen mayor tasa de deserción.\n",
        "\n",
        "Identifica si los clientes con buzón de voz (voice mail plan) tienen menor tasa de deserción."
      ],
      "metadata": {
        "id": "PIGXq-ijFgb4"
      }
    },
    {
      "cell_type": "code",
      "source": [
        "# Calculo del Porcentaje de Clientes que han desertado (Churn=True) y los que no (Churn=False), a partir de la función value_counts con el parámetro de normalize=True\n",
        "churn_percentage = (dftelecom['churn'].value_counts(normalize=True) * 100)\n",
        "churn_percentage\n"
      ],
      "metadata": {
        "collapsed": true,
        "id": "Tt-J-D9sSOYg",
        "colab": {
          "base_uri": "https://localhost:8080/",
          "height": 178
        },
        "outputId": "0c2e5127-92fc-416a-9e3f-63095f2a5382"
      },
      "execution_count": null,
      "outputs": [
        {
          "output_type": "execute_result",
          "data": {
            "text/plain": [
              "churn\n",
              "False    85.508551\n",
              "True     14.491449\n",
              "Name: proportion, dtype: float64"
            ],
            "text/html": [
              "<div>\n",
              "<style scoped>\n",
              "    .dataframe tbody tr th:only-of-type {\n",
              "        vertical-align: middle;\n",
              "    }\n",
              "\n",
              "    .dataframe tbody tr th {\n",
              "        vertical-align: top;\n",
              "    }\n",
              "\n",
              "    .dataframe thead th {\n",
              "        text-align: right;\n",
              "    }\n",
              "</style>\n",
              "<table border=\"1\" class=\"dataframe\">\n",
              "  <thead>\n",
              "    <tr style=\"text-align: right;\">\n",
              "      <th></th>\n",
              "      <th>proportion</th>\n",
              "    </tr>\n",
              "    <tr>\n",
              "      <th>churn</th>\n",
              "      <th></th>\n",
              "    </tr>\n",
              "  </thead>\n",
              "  <tbody>\n",
              "    <tr>\n",
              "      <th>False</th>\n",
              "      <td>85.508551</td>\n",
              "    </tr>\n",
              "    <tr>\n",
              "      <th>True</th>\n",
              "      <td>14.491449</td>\n",
              "    </tr>\n",
              "  </tbody>\n",
              "</table>\n",
              "</div><br><label><b>dtype:</b> float64</label>"
            ]
          },
          "metadata": {},
          "execution_count": 54
        }
      ]
    },
    {
      "cell_type": "markdown",
      "source": [
        "**Conclusión**.\n",
        "La tasa de clientes desertados obtenida es de 14.49%"
      ],
      "metadata": {
        "id": "7E9166dTSvbt"
      }
    },
    {
      "cell_type": "code",
      "source": [
        "# Solución propuesta\n",
        "#Primero filtramos los clientes que hayan desertado en la siguiente instrucción y creamos un dataframe con ellos\n",
        "dfdeser = dftelecom[dftelecom['churn'] == True]\n",
        "# Después separamos analizamos los grupos de acuerdo al plan internacional y buzón de voz para identificar los porcentajes dentro de cada categoría y verificar los hallazgos obtenidos\n",
        "interplan_percentage = (dfdeser['international plan'].value_counts(normalize=True) * 100)\n",
        "voicemail_percentage = (dfdeser['voice mail plan'].value_counts(normalize=True) * 100)\n",
        "print(interplan_percentage)\n",
        "print(voicemail_percentage)\n"
      ],
      "metadata": {
        "id": "3_TFqdwBwUD-",
        "colab": {
          "base_uri": "https://localhost:8080/"
        },
        "outputId": "1c2014d8-3dfa-400b-efae-1e817a8aa7fa"
      },
      "execution_count": null,
      "outputs": [
        {
          "output_type": "stream",
          "name": "stdout",
          "text": [
            "international plan\n",
            "no     71.635611\n",
            "yes    28.364389\n",
            "Name: proportion, dtype: float64\n",
            "voice mail plan\n",
            "no     83.436853\n",
            "yes    16.563147\n",
            "Name: proportion, dtype: float64\n"
          ]
        }
      ]
    },
    {
      "cell_type": "markdown",
      "source": [
        "**Conclusión**\n",
        "1. Evidenciamos que los clientes que tienen plan internacional NO tienen la mayor tasa de deserción\n",
        "2. Se obtuvo que los clientes que tienen buzón de voz poseen la menor tasa de deserción con respecto a los que no lo tienen"
      ],
      "metadata": {
        "id": "Gaj3dZqkRFHA"
      }
    },
    {
      "cell_type": "markdown",
      "source": [
        "**Análisis de la Duración del Servicio y Deserción**\n",
        "\n",
        "¿Cuál es la duración promedio de la cuenta (account length) entre clientes que desertaron y los que permanecen?\n",
        "\n",
        "¿Los clientes con cuentas más antiguas tienen más probabilidades de desertar?"
      ],
      "metadata": {
        "id": "yL8Y_juFFup7"
      }
    },
    {
      "cell_type": "code",
      "source": [
        "# Cálculo del promedio de duración del contrato para los que desertaron o no. Es lo obtuvimos calculando el promedio sobre la duración del contrato, y previamente agrupando por churn\n",
        "average_account_length_by_churn = dftelecom.groupby('churn')['account length'].mean()\n",
        "average_account_length_by_churn"
      ],
      "metadata": {
        "id": "sWOExGB8tt3a",
        "colab": {
          "base_uri": "https://localhost:8080/",
          "height": 178
        },
        "outputId": "d306a338-a690-409b-9fa2-8915e67a1351"
      },
      "execution_count": null,
      "outputs": [
        {
          "output_type": "execute_result",
          "data": {
            "text/plain": [
              "churn\n",
              "False    100.793684\n",
              "True     102.664596\n",
              "Name: account length, dtype: float64"
            ],
            "text/html": [
              "<div>\n",
              "<style scoped>\n",
              "    .dataframe tbody tr th:only-of-type {\n",
              "        vertical-align: middle;\n",
              "    }\n",
              "\n",
              "    .dataframe tbody tr th {\n",
              "        vertical-align: top;\n",
              "    }\n",
              "\n",
              "    .dataframe thead th {\n",
              "        text-align: right;\n",
              "    }\n",
              "</style>\n",
              "<table border=\"1\" class=\"dataframe\">\n",
              "  <thead>\n",
              "    <tr style=\"text-align: right;\">\n",
              "      <th></th>\n",
              "      <th>account length</th>\n",
              "    </tr>\n",
              "    <tr>\n",
              "      <th>churn</th>\n",
              "      <th></th>\n",
              "    </tr>\n",
              "  </thead>\n",
              "  <tbody>\n",
              "    <tr>\n",
              "      <th>False</th>\n",
              "      <td>100.793684</td>\n",
              "    </tr>\n",
              "    <tr>\n",
              "      <th>True</th>\n",
              "      <td>102.664596</td>\n",
              "    </tr>\n",
              "  </tbody>\n",
              "</table>\n",
              "</div><br><label><b>dtype:</b> float64</label>"
            ]
          },
          "metadata": {},
          "execution_count": 51
        }
      ]
    },
    {
      "cell_type": "markdown",
      "source": [
        "**Conclusión. **\n",
        "La duración promedio para los clientes desertados es mayor (102.66) que para los que permanecieron con el contrato (100.79)"
      ],
      "metadata": {
        "id": "w7nictXGQN86"
      }
    },
    {
      "cell_type": "markdown",
      "source": [
        "**Relación entre Deserción y Uso del Servicio**\n",
        "\n",
        "Compara la cantidad de minutos usados en llamadas diurnas (total day minutes) entre clientes con y sin churn.\n",
        "\n",
        "Compara la cantidad de minutos usados en llamadas nocturnas (total night minutes).\n",
        "\n",
        "Compara el número total de llamadas (total day calls) entre clientes con y sin churn."
      ],
      "metadata": {
        "id": "vyaa82K0GF6B"
      }
    },
    {
      "cell_type": "code",
      "source": [
        "# Solución propuesta\n",
        "#stats_uso = dftelecom.groupby(\"churn\")[['total day minutes', \"total night minutes\", \"total day calls\"]].agg([\"sum\"])\n",
        "# Para obtener los resultados agrupamos por Churn, y se have la sumatoria de los minutos usados\n",
        "stats_uso = dftelecom.groupby(\"churn\").agg(Total_Min_Dia=(\"total day minutes\", \"sum\"),\n",
        "    Total_Min_Noche=(\"total night minutes\", \"sum\"),Total_Llamadas_Dia=(\"total day calls\", \"sum\"))\n",
        "print(stats_uso)"
      ],
      "metadata": {
        "id": "d4aPKcv2GrpL",
        "colab": {
          "base_uri": "https://localhost:8080/"
        },
        "outputId": "ec933ba6-eb7e-4efc-ac9a-feb8351d73f4"
      },
      "execution_count": null,
      "outputs": [
        {
          "output_type": "stream",
          "name": "stdout",
          "text": [
            "       Total_Min_Dia  Total_Min_Noche  Total_Llamadas_Dia\n",
            "churn                                                    \n",
            "False       499250.9         570379.6              285807\n",
            "True         99939.5          99126.9               48945\n"
          ]
        }
      ]
    },
    {
      "cell_type": "markdown",
      "source": [
        "**Conclusión.**\n",
        "Con base a los resultados obtendidos, pudimos evidenciar que el consumo de minutos en cualquier momento del día es mayor para aquellos clientes que no desertaron."
      ],
      "metadata": {
        "id": "vxcpFLaNPtzP"
      }
    },
    {
      "cell_type": "markdown",
      "source": [
        "**Impacto de las Llamadas al Servicio al Cliente en la Deserción**\n",
        "\n",
        "Calcula el número promedio de llamadas al servicio al cliente (customer service calls) entre clientes que desertaron y los que no.\n",
        "\n",
        "Divide los clientes en dos grupos:\n",
        "\n",
        "- Grupo 1: Clientes que llamaron más de 3 veces al servicio al cliente.\n",
        "- Grupo 2: Clientes que llamaron 3 veces o menos.\n",
        "Compara la tasa de churn entre ambos grupos."
      ],
      "metadata": {
        "id": "aKl9LnZgGsDT"
      }
    },
    {
      "cell_type": "code",
      "source": [
        "# Solución propuesta\n",
        "#para obtener el resultado, calculamos el promedio de llamadas de los que desertaron o no, agrupados por éste indicador.\n",
        "stats_llamadas = dftelecom.groupby(\"churn\").agg(Promedio_Llamadas=(\"customer service calls\", \"mean\"))\n",
        "print(stats_llamadas)"
      ],
      "metadata": {
        "id": "ac9qDXgrGz-M",
        "colab": {
          "base_uri": "https://localhost:8080/"
        },
        "outputId": "693db27c-dbca-40a6-cb40-f25bde0c6734"
      },
      "execution_count": null,
      "outputs": [
        {
          "output_type": "stream",
          "name": "stdout",
          "text": [
            "       Promedio_Llamadas\n",
            "churn                   \n",
            "False           1.449825\n",
            "True            2.229814\n"
          ]
        }
      ]
    },
    {
      "cell_type": "markdown",
      "source": [
        "**Conclusión.**\n",
        "El resultado obtenido es que los clientes que desertaron realizaron en promedio mayor de llamadas (2.23) que los no desertardos (1.45)"
      ],
      "metadata": {
        "id": "r6x3s4QXODbk"
      }
    },
    {
      "cell_type": "code",
      "source": [],
      "metadata": {
        "id": "5m-BJfdwIIkt"
      },
      "execution_count": null,
      "outputs": []
    },
    {
      "cell_type": "code",
      "source": [
        "# Agrupación de clientes basados en la cantidad de llamadas realizadas\n",
        "#Se crea una función para categorizar los clientes de acuerdo al número de llamadas realizadas\n",
        "def categoria_llamadas(valor):\n",
        "    if valor > 3:\n",
        "        return 'Mayor que 3'\n",
        "    else:\n",
        "        return 'Menor o igual a 3'\n",
        "# tomamos un subconjunto de dataframe inicial con los valores a ser procesados para los clientes que hayan tenido deserción\n",
        "resultado = dftelecom.loc[dftelecom['churn'], ['churn','customer service calls']]\n",
        "resultado['customer service calls'] = resultado['customer service calls'].apply(categoria_llamadas)\n",
        "# cálculo del porcentaje de acuerdo con la clasificación )más de 3, ó menores o iguales a 3\n",
        "churn_percentage = (resultado['customer service calls'].value_counts(normalize=True) * 100)\n",
        "churn_percentage"
      ],
      "metadata": {
        "id": "fiEVrONj3g8N",
        "colab": {
          "base_uri": "https://localhost:8080/",
          "height": 178
        },
        "outputId": "a0922d57-96a6-4d41-8d20-72032c948e3f"
      },
      "execution_count": null,
      "outputs": [
        {
          "output_type": "execute_result",
          "data": {
            "text/plain": [
              "customer service calls\n",
              "Menor o igual a 3    71.428571\n",
              "Mayor que 3          28.571429\n",
              "Name: proportion, dtype: float64"
            ],
            "text/html": [
              "<div>\n",
              "<style scoped>\n",
              "    .dataframe tbody tr th:only-of-type {\n",
              "        vertical-align: middle;\n",
              "    }\n",
              "\n",
              "    .dataframe tbody tr th {\n",
              "        vertical-align: top;\n",
              "    }\n",
              "\n",
              "    .dataframe thead th {\n",
              "        text-align: right;\n",
              "    }\n",
              "</style>\n",
              "<table border=\"1\" class=\"dataframe\">\n",
              "  <thead>\n",
              "    <tr style=\"text-align: right;\">\n",
              "      <th></th>\n",
              "      <th>proportion</th>\n",
              "    </tr>\n",
              "    <tr>\n",
              "      <th>customer service calls</th>\n",
              "      <th></th>\n",
              "    </tr>\n",
              "  </thead>\n",
              "  <tbody>\n",
              "    <tr>\n",
              "      <th>Menor o igual a 3</th>\n",
              "      <td>71.428571</td>\n",
              "    </tr>\n",
              "    <tr>\n",
              "      <th>Mayor que 3</th>\n",
              "      <td>28.571429</td>\n",
              "    </tr>\n",
              "  </tbody>\n",
              "</table>\n",
              "</div><br><label><b>dtype:</b> float64</label>"
            ]
          },
          "metadata": {},
          "execution_count": 48
        }
      ]
    },
    {
      "cell_type": "markdown",
      "source": [
        "**Conclusión.**\n",
        "Notamos que dentro de los clientes desertados, el mayor porcentaje lo tiene aquellos clientes que realizaron 3 llamadas o menos con un total de 71.43%, mientras que aquellos que desertaron y llamaron mas de 3 veces alcanzaron a ser un 28.57%."
      ],
      "metadata": {
        "id": "S2TfMyplNObz"
      }
    },
    {
      "cell_type": "code",
      "source": [
        "# prompt: We need to select \"Churn\" is true, then to calculate the \"churn\" rate splited in 1 grouped by \"customer service calls\" greater than 3 and \"customer service calls\" equal or less than 3, indicating the rate by tipe of \"customer service calls\"\n",
        "\n",
        "# Group customers based on customer service calls\n",
        "group1 = dftelecom[dftelecom['customer service calls'] > 3]\n",
        "group2 = dftelecom[dftelecom['customer service calls'] <= 3]\n",
        "\n",
        "# Calculate churn rates for each group\n",
        "churn_rate_group1 = (group1['churn'].sum() / len(group1)) * 100\n",
        "churn_rate_group2 = (group2['churn'].sum() / len(group2)) * 100\n",
        "\n",
        "# Print the results\n",
        "print(f\"Churn rate for customers with more than 3 service calls: {churn_rate_group1:.2f}%\")\n",
        "print(f\"Churn rate for customers with 3 or fewer service calls: {churn_rate_group2:.2f}%\")\n"
      ],
      "metadata": {
        "id": "1GUdrmTuyedq",
        "colab": {
          "base_uri": "https://localhost:8080/"
        },
        "outputId": "2ae94e64-6bdd-4a58-9717-46b29dbca02d"
      },
      "execution_count": null,
      "outputs": [
        {
          "output_type": "stream",
          "name": "stdout",
          "text": [
            "Churn rate for customers with more than 3 service calls: 51.69%\n",
            "Churn rate for customers with 3 or fewer service calls: 11.25%\n"
          ]
        }
      ]
    },
    {
      "cell_type": "code",
      "source": [
        "#Solución Porpuesta\n",
        "# tomamos el dataframe inicial y generamos uno nuevo que contenga la agrupación y los atributos requeridos para obtener los valores buscados\n",
        "# luego aplicamos los métodos y funciones de la librería de pandas de abajo.\n",
        "resultado = dftelecom.groupby([dftelecom['customer service calls'].apply(lambda x: 'Mayor que 3' if x > 3 else 'Menor o igual a 3')]).size().reset_index(name='conteo')\n",
        "#resultado = dftelecom.groupby([dftelecom['customer service calls'].apply(lambda x: 'Mayor que 3' if x > 3 else 'Menor o igual a 3'), 'churn']).size().reset_index(name='conteo')\n",
        "#resultado = dftelecom.groupby(['churn', dftelecom['customer service calls'].apply(lambda x: 'Mayor que 3' if x > 3 else 'Menor o igual a 3')]).size().reset_index(name='conteo')\n",
        "#  NO resultado = dftelecom.groupby(['churn', dftelecom['customer service calls'].apply(lambda x: 'Mayor que 3' if x > 3 else 'Menor o igual a 3')]).agg(\"count\")\n",
        "# Mostramos el resultado\n",
        "print(resultado)\n",
        "interplan_percentage = (dftelecom['customer service calls'].value_counts(normalize=True) * 100)\n",
        "#voicemail_percentage = (dfdeser['voice mail plan'].value_counts(normalize=True) * 100)\n",
        "print(interplan_percentage)\n",
        "#print(voicemail_percentage)"
      ],
      "metadata": {
        "id": "EBRRcyU5ENbu"
      },
      "execution_count": null,
      "outputs": []
    },
    {
      "cell_type": "markdown",
      "source": [
        "**Análisis del Costo de las Llamadas y Churn**\n",
        "\n",
        "Compara el costo total de llamadas diurnas (total day charge) entre clientes con y sin churn.\n",
        "\n",
        "Compara el costo total de llamadas nocturnas (total night charge).\n",
        "\n",
        "¿Los clientes con mayor gasto en llamadas internacionales (total intl charge) tienen más probabilidades de desertar?"
      ],
      "metadata": {
        "id": "U7oTziiyG0Wb"
      }
    },
    {
      "cell_type": "code",
      "source": [
        "# Solución propuesta\n",
        "# Agrupar por churn y calcular el total del costo de llamadas diurnas\n",
        "total_day_charge = dftelecom.groupby('churn')['total day charge'].sum()\n",
        "print(\"Suma Total del costo de llamadas diurnas por estado de churn:\")\n",
        "print(total_day_charge)\n"
      ],
      "metadata": {
        "id": "YWGmcLdoIYwx",
        "colab": {
          "base_uri": "https://localhost:8080/"
        },
        "outputId": "987e5466-2e55-4e2e-fff1-a38acacc2d7c"
      },
      "execution_count": null,
      "outputs": [
        {
          "output_type": "stream",
          "name": "stdout",
          "text": [
            "Suma Total del costo de llamadas diurnas por estado de churn:\n",
            "churn\n",
            "False    84874.20\n",
            "True     16989.97\n",
            "Name: total day charge, dtype: float64\n"
          ]
        }
      ]
    },
    {
      "cell_type": "code",
      "source": [
        "# Agrupar por churn y calcular el total del costo de llamadas nocturnas\n",
        "total_night_charge = dftelecom.groupby('churn')['total night charge'].sum()\n",
        "print(\"Suma Total del costo de llamadas nocturnas por estado de churn:\")\n",
        "print(total_night_charge)\n"
      ],
      "metadata": {
        "id": "_ChziiJBGtLi",
        "colab": {
          "base_uri": "https://localhost:8080/"
        },
        "outputId": "fe584bf9-5f24-4f60-d796-53f423a9d4ec"
      },
      "execution_count": null,
      "outputs": [
        {
          "output_type": "stream",
          "name": "stdout",
          "text": [
            "Suma Total del costo de llamadas nocturnas por estado de churn:\n",
            "churn\n",
            "False    25667.31\n",
            "True      4460.76\n",
            "Name: total night charge, dtype: float64\n"
          ]
        }
      ]
    },
    {
      "cell_type": "markdown",
      "source": [
        "**Conclusión.**\n",
        "Lo que podimos evidenciar es que para clientes desertados o no, el costo total de llamadas diurnas es mayor que el costo de las nocturnas"
      ],
      "metadata": {
        "id": "leXgqkYbLpah"
      }
    },
    {
      "cell_type": "markdown",
      "source": [
        "Entendemos que la última pregunta no forma parte de la guía por lo explicado en el tutoria"
      ],
      "metadata": {
        "id": "Nm0j04iiL2TU"
      }
    }
  ]
}